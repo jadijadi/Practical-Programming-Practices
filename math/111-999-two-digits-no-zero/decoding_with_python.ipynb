{
 "cells": [
  {
   "cell_type": "markdown",
   "metadata": {},
   "source": [
    "dev: mehdi sahraei\n",
    "\n",
    "[my github](https://github.com/mehdisahraeei)"
   ]
  },
  {
   "cell_type": "markdown",
   "metadata": {},
   "source": [
    "### importing libs"
   ]
  },
  {
   "cell_type": "code",
   "execution_count": 315,
   "metadata": {},
   "outputs": [],
   "source": [
    "import re\n",
    "from collections import ChainMap"
   ]
  },
  {
   "cell_type": "markdown",
   "metadata": {},
   "source": [
    "### input"
   ]
  },
  {
   "cell_type": "code",
   "execution_count": 316,
   "metadata": {},
   "outputs": [],
   "source": [
    "input_ = 'T4 l16 _36 510 _27 s26 _11 320 414 {6 }39 C2 T0 m28 317 y35 d31 F1 m22 g19 d38 z34 423 l15 329 c12 ;37 19 h13 _30 F5 t7 C3 325 z33 _21 h8 n18 132 k24'"
   ]
  },
  {
   "cell_type": "markdown",
   "metadata": {},
   "source": [
    "### pre-processing"
   ]
  },
  {
   "cell_type": "code",
   "execution_count": 317,
   "metadata": {},
   "outputs": [
    {
     "data": {
      "text/plain": [
       "['T4', 'l16', '_36', '510', '_27']"
      ]
     },
     "execution_count": 317,
     "metadata": {},
     "output_type": "execute_result"
    }
   ],
   "source": [
    "x = input_.split(' ') #convert to list\n",
    "x[:5]"
   ]
  },
  {
   "cell_type": "code",
   "execution_count": 318,
   "metadata": {},
   "outputs": [
    {
     "data": {
      "text/plain": [
       "40"
      ]
     },
     "execution_count": 318,
     "metadata": {},
     "output_type": "execute_result"
    }
   ],
   "source": [
    "len(x)"
   ]
  },
  {
   "cell_type": "markdown",
   "metadata": {},
   "source": [
    "### popping nums from list"
   ]
  },
  {
   "cell_type": "code",
   "execution_count": 319,
   "metadata": {},
   "outputs": [
    {
     "name": "stdout",
     "output_type": "stream",
     "text": [
      "['T4', 'l16', '_36', '_27', 's26', '_11', '{6', '}39', 'C2', 'T0', 'm28', 'y35', 'd31', 'F1', 'm22', 'g19', 'd38', 'z34', 'l15', 'c12', ';37', '19', 'h13', '_30', 'F5', 't7', 'C3', 'z33', '_21', 'h8', 'n18', 'k24']\n",
      "len: 32\n"
     ]
    }
   ],
   "source": [
    "_data = [item for item in x if not re.search(r'\\d{3}', item)]\n",
    "\n",
    "print(_data)\n",
    "print(f'len: {len(_data)}')"
   ]
  },
  {
   "cell_type": "markdown",
   "metadata": {},
   "source": [
    "### seprating just nums in list"
   ]
  },
  {
   "cell_type": "code",
   "execution_count": 320,
   "metadata": {},
   "outputs": [
    {
     "name": "stdout",
     "output_type": "stream",
     "text": [
      "['510', '320', '414', '317', '423', '329', '325', '132']\n"
     ]
    }
   ],
   "source": [
    "result = []\n",
    "\n",
    "for item in x:\n",
    "    matches = re.findall(r'\\d{3}', item)\n",
    "    result.extend(matches)\n",
    "\n",
    "print(result)"
   ]
  },
  {
   "cell_type": "markdown",
   "metadata": {},
   "source": [
    "step1:\n",
    "### decoding and obtaining\n",
    "main: ['T4', 'l16', '_36', '_27', 's26', '_11', '{6', '}39', 'C2', 'T0', 'm28', 'y35', 'd31', 'F1', 'm22', 'g19', 'd38', 'z34', 'l15', 'c12', ';37', '19', 'h13', '_30', 'F5', 't7', 'C3', 'z33', '_21', 'h8', 'n18', 'k24']\n"
   ]
  },
  {
   "cell_type": "code",
   "execution_count": 321,
   "metadata": {},
   "outputs": [
    {
     "name": "stdout",
     "output_type": "stream",
     "text": [
      "{'T': 4, 'l': 16, '_': 11, 's': 26, '{': 6, '}': 39, 'C': 2}\n"
     ]
    }
   ],
   "source": [
    "\n",
    "result_dict1 = {}\n",
    "\n",
    "for item in _data[:9]:\n",
    "    key = re.sub(r'\\d', '', item)\n",
    "    value = int(re.sub(r'\\D', '', item))\n",
    "    result_dict1[key] = value\n",
    "\n",
    "print(result_dict1)"
   ]
  },
  {
   "cell_type": "code",
   "execution_count": 322,
   "metadata": {},
   "outputs": [
    {
     "name": "stdout",
     "output_type": "stream",
     "text": [
      "{'T': 0, 'm': 22, 'y': 35, 'd': 38, 'F': 1, 'g': 19, 'z': 34}\n"
     ]
    }
   ],
   "source": [
    "\n",
    "result_dict2 = {}\n",
    "\n",
    "for item in _data[9:18]:\n",
    "    key = re.sub(r'\\d', '', item)\n",
    "    value = int(re.sub(r'\\D', '', item))\n",
    "    result_dict2[key] = value\n",
    "\n",
    "print(result_dict2)"
   ]
  },
  {
   "cell_type": "code",
   "execution_count": 323,
   "metadata": {},
   "outputs": [
    {
     "name": "stdout",
     "output_type": "stream",
     "text": [
      "{'l': 15, 'c': 12, ';': 37, '': 19, 'h': 8, '_': 21, 'F': 5, 't': 7, 'C': 3, 'z': 33, 'n': 18, 'k': 24}\n"
     ]
    }
   ],
   "source": [
    "\n",
    "\n",
    "result_dict3 = {}\n",
    "\n",
    "for item in _data[18:]:\n",
    "    key = re.sub(r'\\d', '', item)\n",
    "    value = int(re.sub(r'\\D', '', item))\n",
    "    result_dict3[key] = value\n",
    "\n",
    "print(result_dict3)"
   ]
  },
  {
   "cell_type": "code",
   "execution_count": 324,
   "metadata": {
    "scrolled": true
   },
   "outputs": [
    {
     "name": "stdout",
     "output_type": "stream",
     "text": [
      "ChainMap({'T': 4, 'l': 16, '_': 11, 's': 26, '{': 6, '}': 39, 'C': 2}, {'T': 0, 'm': 22, 'y': 35, 'd': 38, 'F': 1, 'g': 19, 'z': 34}, {'l': 15, 'c': 12, ';': 37, '': 19, 'h': 8, '_': 21, 'F': 5, 't': 7, 'C': 3, 'z': 33, 'n': 18, 'k': 24})\n"
     ]
    }
   ],
   "source": [
    "merged_ = ChainMap(result_dict1, result_dict2, result_dict3)\n",
    "print(merged_)"
   ]
  },
  {
   "cell_type": "code",
   "execution_count": 325,
   "metadata": {
    "scrolled": true
   },
   "outputs": [
    {
     "name": "stdout",
     "output_type": "stream",
     "text": [
      "{'F': 1, 'C': 2, 'T': 4, '{': 6, 't': 7, 'h': 8, '_': 11, 'c': 12, 'l': 16, 'n': 18, '': 19, 'g': 19, 'm': 22, 'k': 24, 's': 26, 'z': 34, 'y': 35, ';': 37, 'd': 38, '}': 39}\n"
     ]
    }
   ],
   "source": [
    "sorted_ = sorted(merged_.items(), key=lambda item: item[1])\n",
    "sorted_dict = dict(sorted_)\n",
    "\n",
    "print(sorted_dict)"
   ]
  },
  {
   "cell_type": "markdown",
   "metadata": {},
   "source": [
    "step2:\n",
    "### decoding and obtaining\n",
    "['510', '320', '414', '317', '423', '329', '325', '132']\n"
   ]
  },
  {
   "cell_type": "code",
   "execution_count": 344,
   "metadata": {
    "scrolled": false
   },
   "outputs": [
    {
     "name": "stdout",
     "output_type": "stream",
     "text": [
      "5 \t 10\n",
      "3 \t 20\n",
      "4 \t 14\n",
      "3 \t 17\n",
      "4 \t 23\n",
      "3 \t 29\n",
      "3 \t 25\n",
      "1 \t 32\n"
     ]
    }
   ],
   "source": [
    "result1 = []\n",
    "\n",
    "for item in result[:]:\n",
    "    key = item[0]\n",
    "    value = int(item[1:])\n",
    "    print(key,'\\t',value)"
   ]
  },
  {
   "cell_type": "markdown",
   "metadata": {},
   "source": [
    "### answer final"
   ]
  },
  {
   "cell_type": "code",
   "execution_count": 349,
   "metadata": {},
   "outputs": [],
   "source": [
    "# {'F': 1, 'C': 2, 'T': 4, '{': 6, 't': 7, 'h': 8, '_': 11, 'c': 12,\n",
    "# 'l': 16, 'n': 18, '': 19, 'g': 19, 'm': 22, 'k': 24, 's': 26, 'z': 34, 'y': 35, ';': 37, 'd': 38, '}': 39}\n",
    "\n",
    "\n",
    "# 5 \t 10 ->andis 10\n",
    "# 3 \t 20 ->and etc\n",
    "# 4 \t 14\n",
    "# 3 \t 17\n",
    "# 4 \t 23\n",
    "# 3 \t 29\n",
    "# 3 \t 25\n",
    "# 1 \t 32"
   ]
  }
 ],
 "metadata": {
  "kernelspec": {
   "display_name": "Python 3 (ipykernel)",
   "language": "python",
   "name": "python3"
  },
  "language_info": {
   "codemirror_mode": {
    "name": "ipython",
    "version": 3
   },
   "file_extension": ".py",
   "mimetype": "text/x-python",
   "name": "python",
   "nbconvert_exporter": "python",
   "pygments_lexer": "ipython3",
   "version": "3.8.10"
  }
 },
 "nbformat": 4,
 "nbformat_minor": 4
}
